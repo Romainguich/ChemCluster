{
 "cells": [
  {
   "cell_type": "markdown",
   "id": "903acb8d",
   "metadata": {},
   "source": [
    "# Welcome to **MolSearch !!** \n"
   ]
  },
  {
   "cell_type": "markdown",
   "id": "436376a9",
   "metadata": {},
   "source": [
    "**💼 Initialization of the Notebook** <br> "
   ]
  },
  {
   "cell_type": "code",
   "execution_count": null,
   "id": "0f8849b0",
   "metadata": {},
   "outputs": [],
   "source": [
    "welcome to this notebook"
   ]
  },
  {
   "cell_type": "markdown",
   "id": "c720860f",
   "metadata": {},
   "source": [
    "# ChemCluster Project Report  \n",
    "**CH-200 – Practical Programming in Chemistry**  \n",
    "**Group:** Romain Guichonnet, Elisa Rubbia, Flavia Zabala.\n",
    "**Date:** 26 May 2025  "
   ]
  },
  {
   "cell_type": "markdown",
   "id": "76708437",
   "metadata": {},
   "source": [
    "## 1. Introduction\n",
    "\n",
    "*TODO: Write the project motivation, chemical context, and objectives here.*\n"
   ]
  },
  {
   "cell_type": "markdown",
   "id": "ca91bc6e",
   "metadata": {},
   "source": [
    "## 2. Installation and Quickstart\n",
    "\n",
    "```bash\n",
    "# TODO: Clone repo, create env, install deps, launch app\n",
    "git clone https://github.com/erubbia/ChemCluster.git\n",
    "cd ChemCluster\n",
    "conda env create -f environment.yml\n",
    "conda activate chemcluster-env\n",
    "streamlit run app.py\n"
   ]
  },
  {
   "cell_type": "markdown",
   "id": "38852bc1",
   "metadata": {},
   "source": [
    "## 3. Project Structure\n",
    "\n",
    "The repository is organized as follows:\n",
    "\n"
   ]
  },
  {
   "cell_type": "markdown",
   "id": "404eb1ee",
   "metadata": {},
   "source": []
  }
 ],
 "metadata": {
  "kernelspec": {
   "display_name": "chemcluster-env",
   "language": "python",
   "name": "python3"
  },
  "language_info": {
   "codemirror_mode": {
    "name": "ipython",
    "version": 3
   },
   "file_extension": ".py",
   "mimetype": "text/x-python",
   "name": "python",
   "nbconvert_exporter": "python",
   "pygments_lexer": "ipython3",
   "version": "3.10.17"
  }
 },
 "nbformat": 4,
 "nbformat_minor": 5
}
