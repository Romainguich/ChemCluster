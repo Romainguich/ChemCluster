{
 "cells": [
  {
   "cell_type": "markdown",
   "id": "4df912a8",
   "metadata": {},
   "source": [
    "# Welcome to **ChemCluster** 🧪"
   ]
  },
  {
   "cell_type": "markdown",
   "id": "23b1bfad",
   "metadata": {},
   "source": [
    "Welcome to **ChemCluster**, a cheminformatics tool designed for interactive clustering and visualization of molecular datasets. Built as part of the CH-200 course at EPFL, it allows you to load your own SMILES data, compute descriptors, perform clustering, and explore chemical space interactively in 2D and 3D.\n",
    "\n",
    "In this notebook, we’ll walk through the main features of ChemCluster step-by-step, including descriptor calculation, clustering, centroid visualization, and dataset comparison."
   ]
  },
  {
   "cell_type": "markdown",
   "id": "7050efc8",
   "metadata": {},
   "source": [
    "## ⚙️ Installation & Initialization"
   ]
  },
  {
   "cell_type": "markdown",
   "id": "06189365",
   "metadata": {},
   "source": [
    "ChemCluster is available directly from PyPI. You can install it and start the app in just two steps.\n",
    "\n",
    "### 1. Install the ChemCluster package\n",
    "Run the following command in a new terminal:\n",
    "```bash\n",
    "pip install chemcluster\n",
    "```\n",
    "### 2. Launch the interface\n",
    "Once installed, you can open the ChemCluster app in your browser by typing:\n",
    "```bash\n",
    "chemcluster\n",
    "```\n",
    "This will launch the Streamlit interface for interactive clustering and visualization.\n",
    "\n",
    "🧑‍💻 *Note:* If you’re contributing to development or want to run it locally from source, see the instructions on [GitHub](https://github.com/erubbia/ChemCluster)."
   ]
  },
  {
   "cell_type": "markdown",
   "id": "77423aba",
   "metadata": {},
   "source": [
    "## 1. Project Objectives"
   ]
  },
  {
   "cell_type": "markdown",
   "id": "8f1fcaf8",
   "metadata": {},
   "source": [
    "This project was developed to:\n",
    "\n",
    "1. **Automate molecular property extraction**  \n",
    "   Compute useful properties (molecular weight, LogP, TPSA, fingerprints) from SMILES using a reproducible pipeline.\n",
    "2. **Explore and cluster datasets**  \n",
    "   Let users upload SMILES files or datasets and discover meaningful molecular clusters without manual preprocessing.\n",
    "3. **Make the analysis interactive**  \n",
    "   Provide a Streamlit app to adjust clustering parameters and view the 2D or 3D structure of the most representative molecule in each cluster.\n",
    "4. **Design clean, reusable code**  \n",
    "   Organize the project as a Python package for easy testing, maintenance, and future extension."
   ]
  },
  {
   "cell_type": "markdown",
   "id": "71421533",
   "metadata": {},
   "source": [
    "## 2. Project Structure"
   ]
  },
  {
   "cell_type": "markdown",
   "id": "7fb93caa",
   "metadata": {},
   "source": [
    "The code is structured as follows:\n",
    "\n",
    "```\n",
    "chemcluster/\n",
    "├── app.py                 # Streamlit app entry point\n",
    "├── environment.yml        # Conda environment\n",
    "├── notebooks/\n",
    "│   └── project_report.ipynb  # This report\n",
    "├── src/\n",
    "│   └── chemcluster/\n",
    "│       ├── __init__.py\n",
    "│       ├── descriptors.py     # Molecular descriptors\n",
    "│       ├── clustering.py      # Clustering logic\n",
    "│       └── visualization.py   # 2D and 3D rendering\n",
    "└── tests/                # Unit tests\n",
    "```\n",
    "\n",
    "This layout enables clean modular development and testing."
   ]
  },
  {
   "cell_type": "markdown",
   "id": "2b2252d7",
   "metadata": {},
   "source": [
    "## 3. Molecular Descriptor Calculation 🧬"
   ]
  },
  {
   "cell_type": "markdown",
   "id": "7ff399db",
   "metadata": {},
   "source": [
    "We now calculate key chemical descriptors from a list of SMILES. This includes:\n",
    "- Molecular weight, LogP, TPSA\n",
    "- Number of H-bond donors/acceptors\n",
    "- Number of rotatable bonds, aromatic rings, etc.\n",
    "\n",
    "Additionally, we compute **ECFP-like fingerprints** using RDKit for clustering.\n",
    "Here are the core functions defined in `chemcluster/descriptors.py` that we use:"
   ]
  },
  {
   "cell_type": "code",
   "execution_count": 3,
   "id": "619d6123",
   "metadata": {},
   "outputs": [],
   "source": [
    "from rdkit import Chem\n",
    "from rdkit.Chem import (\n",
    "    Descriptors, Crippen, Lipinski, rdMolDescriptors,\n",
    "    Draw, AllChem\n",
    ")\n",
    "import py3Dmol\n",
    "from io import BytesIO\n",
    "import base64\n",
    "\n",
    "def calculate_properties(mol, mol_name=\"Unknown\"):\n",
    "    return {\n",
    "        \"Molecule\": mol_name,\n",
    "        \"Molecular Weight\": round(Descriptors.MolWt(mol), 2),\n",
    "        \"LogP\": round(Crippen.MolLogP(mol), 2),\n",
    "        \"H-Bond Donors\": Lipinski.NumHDonors(mol),\n",
    "        \"H-Bond Acceptors\": Lipinski.NumHAcceptors(mol),\n",
    "        \"TPSA\": round(rdMolDescriptors.CalcTPSA(mol), 2),\n",
    "        \"Rotatable Bonds\": Lipinski.NumRotatableBonds(mol),\n",
    "        \"Aromatic Rings\": Lipinski.NumAromaticRings(mol),\n",
    "        \"Heavy Atom Count\": mol.GetNumHeavyAtoms()\n",
    "    }\n",
    "\n",
    "def get_fingerprint(mol):\n",
    "    return AllChem.GetMorganFingerprintAsBitVect(mol, 2, nBits=2048)\n",
    "\n",
    "def clean_smiles_list(smiles_list):\n",
    "    mols, valid_smiles = [], []\n",
    "    for smi in smiles_list:\n",
    "        mol = Chem.MolFromSmiles(smi)\n",
    "        if mol:\n",
    "            mols.append(mol)\n",
    "            valid_smiles.append(smi)\n",
    "    return mols, valid_smiles\n",
    "\n",
    "def show_3d_molecule(mol, confId=-1):\n",
    "    if not mol.GetNumConformers():\n",
    "        AllChem.EmbedMolecule(mol, AllChem.ETKDG())\n",
    "    mb = Chem.MolToMolBlock(mol, confId=confId)\n",
    "    viewer = py3Dmol.view(width=300, height=300)\n",
    "    viewer.addModel(mb, 'mol')\n",
    "    viewer.setStyle({'stick': {}})\n",
    "    viewer.setBackgroundColor('0xffffff')\n",
    "    viewer.zoomTo()\n",
    "    return viewer\n",
    "\n",
    "def mol_to_base64_img(mol):\n",
    "    img = Draw.MolToImage(mol, size=(200, 200))\n",
    "    buffer = BytesIO()\n",
    "    img.save(buffer, format=\"PNG\")\n",
    "    buffer.seek(0)\n",
    "    return \"data:image/png;base64,\" + base64.b64encode(buffer.read()).decode()"
   ]
  },
  {
   "cell_type": "markdown",
   "id": "1dd6da5a",
   "metadata": {},
   "source": [
    "## 4. Clustering the Molecules 🧩"
   ]
  },
  {
   "cell_type": "markdown",
   "id": "ea2ca22c",
   "metadata": {},
   "source": [
    "Once descriptors or fingerprints are computed, we can apply clustering algorithms to group similar molecules.\n",
    "\n",
    "**ChemCluster** supports:\n",
    "- K-Means clustering (with PCA-reduced fingerprints)\n",
    "- DBSCAN (for density-based separation)\n",
    "\n",
    "Below are example utilities from our clustering module. These use `scikit-learn` and can take either molecular descriptors or fingerprint vectors as input.\n",
    "\n",
    "📌 After clustering, each molecule is assigned to a group, and the **centroid structure** is computed for each cluster."
   ]
  },
  {
   "cell_type": "code",
   "execution_count": null,
   "id": "40a6da09",
   "metadata": {},
   "outputs": [],
   "source": [
    "from sklearn.decomposition import PCA\n",
    "from sklearn.cluster import KMeans, DBSCAN\n",
    "from rdkit import Chem\n",
    "import numpy as np\n",
    "\n",
    "def reduce_fingerprints(fps, n_components=2):\n",
    "    pca = PCA(n_components=n_components)\n",
    "    return pca.fit_transform(fps)\n",
    "\n",
    "def cluster_with_kmeans(data, n_clusters=5):\n",
    "    kmeans = KMeans(n_clusters=n_clusters, random_state=0)\n",
    "    labels = kmeans.fit_predict(data)\n",
    "    return labels, kmeans\n",
    "\n",
    "def cluster_with_dbscan(data, eps=0.5, min_samples=5):\n",
    "    dbscan = DBSCAN(eps=eps, min_samples=min_samples)\n",
    "    labels = dbscan.fit_predict(data)\n",
    "    return labels, dbscan\n",
    "\n",
    "def get_cluster_centroids(fps, labels, mols):\n",
    "    centroids = []\n",
    "    unique_labels = sorted(set(labels))\n",
    "    for label in unique_labels:\n",
    "        if label == -1:\n",
    "            continue  # skip noise\n",
    "        indices = [i for i, l in enumerate(labels) if l == label]\n",
    "        cluster_fps = [fps[i] for i in indices]\n",
    "        mean_fp = np.mean(cluster_fps, axis=0)\n",
    "        closest = min(indices, key=lambda i: np.linalg.norm(fps[i] - mean_fp))\n",
    "        centroids.append(mols[closest])\n",
    "    return centroids"
   ]
  },
  {
   "cell_type": "code",
   "execution_count": null,
   "id": "4869b9eb",
   "metadata": {},
   "outputs": [],
   "source": [
    "# Example:"
   ]
  },
  {
   "cell_type": "markdown",
   "id": "8b62cab8",
   "metadata": {},
   "source": [
    "## 6. Results and Visualization\n",
    "\n",
    "*TODO: Insert plots (histogram of MW, PCA scatter, 3D py3Dmol view).*"
   ]
  },
  {
   "cell_type": "code",
   "execution_count": null,
   "id": "c91d511b",
   "metadata": {},
   "outputs": [],
   "source": [
    "# TODO: plotting code, e.g.:"
   ]
  },
  {
   "cell_type": "markdown",
   "id": "58cdae5d",
   "metadata": {},
   "source": [
    "## 7. Discussion\n",
    "\n",
    "**Strengths:**  \n",
    "- Interactive UI  \n",
    "- Modular code  \n",
    "\n",
    "**Limitations:**  \n",
    "- Scalability to large libraries  \n",
    "- Fixed default metrics  \n",
    "\n",
    "**Future work:**  \n",
    "- Add new similarity measures  \n",
    "- Parallelize descriptor calculations\n",
    "\n",
    "\n"
   ]
  },
  {
   "cell_type": "markdown",
   "id": "d9a2bc87",
   "metadata": {},
   "source": [
    "## 8. Conclusion\n",
    "\n",
    "*TODO: Summarize key findings and perspectives.*\n"
   ]
  },
  {
   "cell_type": "markdown",
   "id": "82fc34d9",
   "metadata": {},
   "source": []
  },
  {
   "cell_type": "markdown",
   "id": "f0331475",
   "metadata": {},
   "source": [
    "## 9. References & Appendix\n",
    "\n",
    "1. RDKit: https://www.rdkit.org  \n",
    "2. scikit-learn: Pedregosa et al., JMLR 12 (2011)  \n",
    "\n",
    "*Appendix: code snippets, test instructions, etc.*\n"
   ]
  },
  {
   "cell_type": "markdown",
   "id": "314729b5",
   "metadata": {},
   "source": [
    "# ChemCluster Project Report\n",
    "\n",
    "**CH-200 – Practical Programming in Chemistry**  \n",
    "**Group:** Elisa Rubbia, Romain Guichonnet, Flavia Zabala Perez  \n",
    "**Date:** May 2025\n"
   ]
  },
  {
   "cell_type": "markdown",
   "id": "4622c760",
   "metadata": {},
   "source": [
    "## Welcome to ChemCluster!\n",
    "\n",
    "ChemCluster is a streamlined and interactive platform designed to facilitate the analysis and visualization of chemical datasets using molecular clustering techniques. It leverages the power of **RDKit** for cheminformatics and **Streamlit** for web interface deployment, offering an intuitive solution for researchers and students alike.\n",
    "\n",
    "Two main modes of operation are supported by the platform:\n",
    "\n",
    "- **Dataset Mode**: This mode allows users to upload datasets (in `.csv` or `.sdf` format) containing multiple molecular structures. These are then clustered based on structural similarity, and representative structures for each cluster are highlighted for further exploration.\n",
    "- **Single Molecule Mode**: In this workflow, ChemCluster generates a set of 3D conformers for a single input molecule. These conformers are clustered, and representative structures are visualized both in 2D and 3D, enabling users to analyze conformational diversity effectively."
   ]
  },
  {
   "cell_type": "markdown",
   "id": "6588ed84",
   "metadata": {},
   "source": [
    "## Setup and Initialization\n",
    "\n",
    "To begin using ChemCluster, you have two options: installation via PyPI or running the application locally from source.\n",
    "\n",
    "### Installation from PyPI\n",
    "The simplest way to install ChemCluster is through the Python Package Index. In a terminal or command prompt, run:\n",
    "\n",
    "```bash\n",
    "pip install chemcluster\n",
    "```\n",
    "Once installed, you can launch the application by executing:\n",
    "\n",
    "```bash\n",
    "chemcluster\n",
    "```\n",
    "This command will open the ChemCluster interface directly in your default web browser.\n",
    "\n",
    "### Running Locally from Source (for Development or Contribution)\n",
    "If you prefer to contribute to the project or wish to run it locally in a development environment, follow these steps:\n",
    "1. Clone the repository from GitHub:\n",
    "```bash\n",
    "git clone https://github.com/erubbia/ChemCluster\n",
    "```\n",
    "2. Navigate into the project directory:\n",
    "```bash\n",
    "cd ChemCluster\n",
    "```\n",
    "3. Create a conda environment based on the project's environment file:\n",
    "```bash\n",
    "conda env create -f environment.yml\n",
    "```\n",
    "4. Activate the newly created environment:\n",
    "```bash\n",
    "conda activate chemcluster-env\n",
    "```\n",
    "5. Finally, install the project in editable mode:\n",
    "```bash\n",
    "pip install -e .\n",
    "```\n",
    "After this setup, you can launch ChemCluster the same way by running `chemcluster` in the terminal."
   ]
  }
 ],
 "metadata": {
  "kernelspec": {
   "display_name": "chemcluster-env",
   "language": "python",
   "name": "python3"
  },
  "language_info": {
   "codemirror_mode": {
    "name": "ipython",
    "version": 3
   },
   "file_extension": ".py",
   "mimetype": "text/x-python",
   "name": "python",
   "nbconvert_exporter": "python",
   "pygments_lexer": "ipython3",
   "version": "3.10.17"
  }
 },
 "nbformat": 4,
 "nbformat_minor": 5
}
