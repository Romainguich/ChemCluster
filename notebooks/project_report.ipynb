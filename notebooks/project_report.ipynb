{
 "cells": [
  {
   "cell_type": "markdown",
   "id": "314729b5",
   "metadata": {},
   "source": [
    "# ChemCluster Project Report\n",
    "\n",
    "**CH-200 – Practical Programming in Chemistry**  \n",
    "**Group:** Elisa Rubbia, Romain Guichonnet, Flavia Zabala Perez  \n",
    "**Date:** May 2025"
   ]
  },
  {
   "cell_type": "markdown",
   "id": "4622c760",
   "metadata": {},
   "source": [
    "## Welcome to ChemCluster!\n",
    "\n",
    "ChemCluster is a streamlined and interactive platform designed to facilitate the analysis and visualization of chemical datasets using molecular clustering techniques. It leverages the power of **RDKit** for cheminformatics and **Streamlit** for web interface deployment, offering an intuitive solution for researchers and students alike.\n",
    "\n",
    "Two main modes of operation are supported by the platform:\n",
    "\n",
    "- **Dataset Mode**: This mode allows users to upload datasets (in `.csv` or `.sdf` format) containing multiple molecular structures. These are then clustered based on structural similarity, and representative structures for each cluster are highlighted for further exploration.\n",
    "- **Single Molecule Mode**: In this workflow, ChemCluster generates a set of 3D conformers for a single input molecule. These conformers are clustered, and representative structures are visualized both in 2D and 3D, enabling users to analyze conformational diversity effectively."
   ]
  },
  {
   "cell_type": "markdown",
   "id": "6588ed84",
   "metadata": {},
   "source": [
    "## 1. Setup and Initialization\n",
    "\n",
    "To begin using ChemCluster, you have two options: installation via PyPI or running the application locally from source.\n",
    "\n",
    "### 1.1 Installation from PyPI\n",
    "The simplest way to install ChemCluster is through the Python Package Index. In a terminal or command prompt, run:\n",
    "\n",
    "```bash\n",
    "pip install chemcluster\n",
    "```\n",
    "Once installed, you can launch the application by executing:\n",
    "\n",
    "```bash\n",
    "chemcluster\n",
    "```\n",
    "This command will open the ChemCluster interface directly in your default web browser.\n",
    "\n",
    "### 1.2 Running Locally from Source (for Development or Contribution)\n",
    "If you prefer to contribute to the project or wish to run it locally in a development environment, follow these steps:\n",
    "1. Clone the repository from GitHub:\n",
    "```bash\n",
    "git clone https://github.com/erubbia/ChemCluster\n",
    "```\n",
    "2. Navigate into the project directory:\n",
    "```bash\n",
    "cd ChemCluster\n",
    "```\n",
    "3. Create a conda environment based on the project's environment file:\n",
    "```bash\n",
    "conda env create -f environment.yml\n",
    "```\n",
    "4. Activate the newly created environment:\n",
    "```bash\n",
    "conda activate chemcluster-env\n",
    "```\n",
    "5. Finally, install the project in editable mode:\n",
    "```bash\n",
    "pip install -e .\n",
    "```\n",
    "After this setup, you can launch ChemCluster the same way by running `chemcluster` in the terminal."
   ]
  },
  {
   "cell_type": "markdown",
   "id": "4f00e988",
   "metadata": {},
   "source": [
    "## 2. Dataset Mode – Analysis of Molecular Libraries"
   ]
  },
  {
   "cell_type": "markdown",
   "id": "5089f8d3",
   "metadata": {},
   "source": [
    "The dataset mode in ChemCluster allows users to upload a file containing multiple molecules in formats such as `.csv`, `.sdf`, or `.mol`. These datasets are typically used to analyze structural diversity, identify clusters of similar compounds, or inspect physicochemical properties."
   ]
  },
  {
   "cell_type": "markdown",
   "id": "dc3c2bfa",
   "metadata": {},
   "source": [
    "### 2.1 Functional Overview\n",
    "Upon upload, the molecular structures are converted into RDKit `Mol` objects. When working with CSV files, the relevant column containing SMILES strings is parsed and cleaned using the function `clean_smiles_list`. This ensures invalid entries are excluded prior to analysis.\n",
    "\n",
    "Example:\n",
    "```python\n",
    "from chemcluster import clean_smiles_list\n",
    "mols, smiles_list = clean_smiles_list(smiles_column)\n",
    "```"
   ]
  },
  {
   "cell_type": "markdown",
   "id": "5554ac77",
   "metadata": {},
   "source": [
    "### 2.2 Computational Procedure\n",
    "Each molecule is encoded as a Morgan fingerprint (2048-bit vector), which represents circular substructures. A pairwise Tanimoto similarity matrix is computed, followed by a transformation into a distance matrix (1 - similarity). To enable visualization and clustering, the dimensionality is reduced using Principal Component Analysis (PCA).\n",
    "\n",
    "Clustering is performed using the KMeans algorithm. To determine the optimal number of clusters (k), ChemCluster evaluates models for values ranging from 2 to 10. The configuration that maximizes the silhouette score, which is a metric assessing both the separation between clusters and the cohesion within them, is selected automatically.\n",
    "\n",
    "Relevant functions and methods:   \n",
    "- `get_fingerprint()` – generates molecular fingerprints\n",
    "- `PCA` from `sklearn.decomposition`\n",
    "- `KMeans` from `sklearn.cluster`\n",
    "- `silhouette_score` for quality assessment"
   ]
  },
  {
   "cell_type": "markdown",
   "id": "666e9b6f",
   "metadata": {},
   "source": [
    "### 2.3 Output and Visualization\n",
    "Each molecule is projected onto a 2D PCA plane and assigned a cluster label. These results are visualized using an interactive Plotly scatter plot. Users can inspect any molecule by clicking on a point in the plot, revealing its structure, SMILES, and calculated descriptors.\n",
    "\n",
    "The interface also allows users to export selected clusters as `.csv` files for further analysis."
   ]
  },
  {
   "cell_type": "markdown",
   "id": "fc67e9de",
   "metadata": {},
   "source": [
    "### 2.4 Example Code Snippet"
   ]
  },
  {
   "cell_type": "code",
   "execution_count": null,
   "id": "38260e5a",
   "metadata": {
    "vscode": {
     "languageId": "plaintext"
    }
   },
   "outputs": [],
   "source": [
    "```python\n",
    "from sklearn.decomposition import PCA\n",
    "from sklearn.cluster import KMeans\n",
    "from sklearn.metrics import silhouette_score\n",
    "import numpy as np\n",
    "\n",
    "coords = PCA(n_components=2).fit_transform(dist_matrix)\n",
    "best_k, best_score = 2, -1\n",
    "for k in range(2, 10):\n",
    "    model = KMeans(n_clusters=k).fit(coords)\n",
    "    score = silhouette_score(coords, model.labels_)\n",
    "    if score > best_score:\n",
    "        best_k, best_score = k, score\n",
    "labels = KMeans(n_clusters=best_k).fit_predict(coords)\n",
    "```"
   ]
  },
  {
   "cell_type": "markdown",
   "id": "a1bf0556",
   "metadata": {},
   "source": [
    "## 3. Single Molecule Mode – Conformer Generation and Clustering"
   ]
  },
  {
   "cell_type": "markdown",
   "id": "18b62bb7",
   "metadata": {},
   "source": [
    "In addition to handling datasets, ChemCluster provides functionality to explore the 3D conformational space of a single molecule. This mode is useful for investigating structural flexibility, intramolecular interactions, and conformer diversity."
   ]
  },
  {
   "cell_type": "markdown",
   "id": "69239bcc",
   "metadata": {},
   "source": [
    "### 3.1 Workflow Description\n",
    "The user inputs a molecule through a SMILES string or draws it using an embedded editor. The SMILES string is then converted into an RDKit `Mol` object. Explicit hydrogen atoms are added to improve 3D geometry prediction.\n",
    "\n",
    "A set of conformers is generated using RDKit’s ETKDG algorithm, which attempts to produce realistic 3D geometries by optimizing distance geometry with torsion angle preferences and force-field minimization (UFF or MMFF94)."
   ]
  },
  {
   "cell_type": "markdown",
   "id": "b89d0c3b",
   "metadata": {},
   "source": [
    "### 3.2 Conformer Clustering\n",
    "Once generated, the conformers are clustered based on Root-Mean-Square Deviation (RMSD) of atomic positions. This step is carried out using the Butina clustering algorithm, which is a fast, greedy method suited for large sets of conformers.\n",
    "\n",
    "Within each cluster, the conformer with the lowest average RMSD to others is selected as a representative (centroid)."
   ]
  },
  {
   "cell_type": "markdown",
   "id": "4247d11a",
   "metadata": {},
   "source": [
    "### 3.3 Implementation Highlights\n",
    "- `AllChem.EmbedMultipleConfs()` – generates conformers using ETKDG\n",
    "- `AllChem.UFFOptimizeMoleculeConfs()` – optimizes each conformer\n",
    "- `rdMolAlign.GetBestRMS()` – calculates RMSD between conformers\n",
    "- `Butina.ClusterData()` – performs RMSD-based clustering"
   ]
  },
  {
   "cell_type": "markdown",
   "id": "e2b601d8",
   "metadata": {},
   "source": [
    "### 3.4 Example Code Snippet\n",
    "```python\n",
    "from rdkit import Chem\n",
    "from rdkit.Chem import AllChem, rdMolAlign\n",
    "from rdkit.ML.Cluster import Butina\n",
    "\n",
    "mol = Chem.MolFromSmiles('CCO')\n",
    "mol = Chem.AddHs(mol)\n",
    "cids = AllChem.EmbedMultipleConfs(mol, numConfs=50)\n",
    "_ = AllChem.UFFOptimizeMoleculeConfs(mol)\n",
    "\n",
    "# Compute pairwise RMSD\n",
    "dists = []\n",
    "for i in range(len(cids)):\n",
    "    for j in range(i):\n",
    "        rms = rdMolAlign.GetBestRMS(mol, mol, i, j)\n",
    "        dists.append(rms)\n",
    "clusters = Butina.ClusterData(dists, len(cids), 1.5, isDistData=True)\n",
    "```"
   ]
  },
  {
   "cell_type": "markdown",
   "id": "a8a52cbe",
   "metadata": {},
   "source": [
    "## 4. Molecular Properties and Cluster Filtering"
   ]
  },
  {
   "cell_type": "code",
   "execution_count": null,
   "id": "85f038fb",
   "metadata": {
    "vscode": {
     "languageId": "plaintext"
    }
   },
   "outputs": [],
   "source": []
  },
  {
   "cell_type": "code",
   "execution_count": null,
   "id": "5342e816",
   "metadata": {
    "vscode": {
     "languageId": "plaintext"
    }
   },
   "outputs": [],
   "source": []
  },
  {
   "cell_type": "markdown",
   "id": "ba500e32",
   "metadata": {},
   "source": [
    "ChemCluster calculates a variety of key physicochemical properties for each molecule using RDKit. These descriptors help users assess drug-likeness, polarity, flexibility, and more. In dataset mode, the properties can also be aggregated at the cluster level to assist in filtering and selection."
   ]
  },
  {
   "cell_type": "markdown",
   "id": "268bb1ef",
   "metadata": {},
   "source": [
    "### 4.1 Property Overview\n",
    "The following molecular descriptors are calculated for each molecule:\n",
    "\n",
    "- Molecular Weight (g/mol)\n",
    "- LogP (hydrophobicity, from Crippen model)\n",
    "- Number of Hydrogen Bond Donors\n",
    "- Number of Hydrogen Bond Acceptors\n",
    "- TPSA (Topological Polar Surface Area)\n",
    "- Number of Rotatable Bonds\n",
    "- Number of Aromatic Rings\n",
    "- Heavy Atom Count"
   ]
  },
  {
   "cell_type": "markdown",
   "id": "9ec073d4",
   "metadata": {},
   "source": [
    "### 4.2 Calculation Method\n",
    "All properties are computed with RDKit’s built-in descriptor functions, wrapped inside the helper function `calculate_properties()` defined in `core.py`. This function takes an RDKit `Mol` object and returns a dictionary of descriptors.\n",
    "\n",
    "```python\n",
    "from chemcluster import calculate_properties\n",
    "props = calculate_properties(mol, mol_name=\"aspirin\")\n",
    "```"
   ]
  },
  {
   "cell_type": "markdown",
   "id": "7b522796",
   "metadata": {},
   "source": [
    "### 4.3 Cluster-Based Property Filtering\n",
    "In dataset mode, ChemCluster aggregates molecular properties at the cluster level to enable filtering. For each cluster, average values for the descriptors are computed and compared to overall means. Users can select properties of interest (e.g., high LogP, low TPSA) and retrieve clusters that meet these criteria.\n",
    "\n",
    "This enables rapid identification of chemical subspaces with desired features."
   ]
  },
  {
   "cell_type": "markdown",
   "id": "e40730e8",
   "metadata": {},
   "source": [
    "### 4.4 Example Code\n",
    "```python\n",
    "import numpy as np\n",
    "cluster_props_summary = {}\n",
    "for c in set(labels):\n",
    "    idxs = [i for i, lbl in enumerate(labels) if lbl == c]\n",
    "    props = [calculate_properties(mols[i]) for i in idxs]\n",
    "    df = pd.DataFrame(props).select_dtypes(include=[np.number])\n",
    "    cluster_props_summary[c] = df.mean()\n",
    "```"
   ]
  },
  {
   "cell_type": "markdown",
   "id": "abe2badc",
   "metadata": {},
   "source": [
    "## 5. Export and Interactivity"
   ]
  },
  {
   "cell_type": "markdown",
   "id": "f59d238c",
   "metadata": {},
   "source": [
    "ChemCluster is designed with an interactive interface built using Streamlit and Plotly, allowing users to dynamically explore and export results. This interactivity is essential for intuitive cheminformatics analysis and facilitates quick insight into molecular datasets."
   ]
  },
  {
   "cell_type": "markdown",
   "id": "131e736b",
   "metadata": {},
   "source": [
    "### 5.1 Interactive Exploration of Clusters\n",
    "Clusters are visualized in a 2D PCA space using Plotly. Each point in the scatter plot corresponds to a molecule. By clicking on a point, the associated molecular structure is displayed alongside its computed properties. This enables rapid investigation of cluster composition.\n",
    "\n",
    "The interface is implemented with `streamlit_plotly_events` to detect clicks on Plotly points and display corresponding information."
   ]
  },
  {
   "cell_type": "markdown",
   "id": "8ff6f4aa",
   "metadata": {},
   "source": [
    "### 5.2 2D and 3D Molecular Visualization\n",
    "- **2D Structures:** Rendered using RDKit’s `MolToImage()` function\n",
    "- **3D Structures:** Displayed interactively using `py3Dmol` via the helper function `show_3d_molecule()`\n",
    "\n",
    "These views allow for both topological and spatial inspection of selected molecules and conformers."
   ]
  },
  {
   "cell_type": "markdown",
   "id": "7b4b4d6a",
   "metadata": {},
   "source": [
    "### 5.3 Export of Selected Data\n",
    "Users may export cluster contents and selected molecule data to `.csv` files. This includes:\n",
    "- SMILES\n",
    "- Cluster label\n",
    "- All calculated molecular descriptors\n",
    "\n",
    "This feature supports downstream use in other cheminformatics tools or for documentation/reporting purposes."
   ]
  },
  {
   "cell_type": "markdown",
   "id": "cc8cb47d",
   "metadata": {},
   "source": [
    "### 5.4 Example Code Snippet\n",
    "```python\n",
    "# Exporting cluster dataframe to CSV\n",
    "csv = cluster_df.to_csv(index=False).encode('utf-8')\n",
    "st.download_button(\"Download Cluster Molecules\", data=csv,\n",
    "                   file_name=f\"cluster_{selected_cluster}_molecules.csv\",\n",
    "                   mime=\"text/csv\")\n",
    "```"
   ]
  },
  {
   "cell_type": "markdown",
   "id": "7c4e4c9e",
   "metadata": {},
   "source": [
    "## 6. Results and Observations\n",
    "\n",
    "To demonstrate the functionality of ChemCluster, we considered testing the application with a small molecule input. One possible example is the flavone molecule, provided as an `.sdf` file (`Flavone.sdf`), which may be used during the oral presentation.\n",
    "\n",
    "In single molecule mode, ChemCluster successfully processed the molecule, added explicit hydrogens, and generated a set of conformers using the ETKDG algorithm. The generated conformers were clustered based on RMSD distances using the Butina algorithm. The application identified a small number of representative conformers (cluster centroids), which were then visualized in both 2D and 3D.\n",
    "\n",
    "The flavone molecule’s physicochemical properties — including molecular weight, LogP, TPSA, and hydrogen bonding features — were computed and displayed within the application interface. All values were consistent with expectations for a moderately hydrophobic, aromatic compound.\n",
    "\n",
    "The export feature allowed downloading all conformer and property data in a structured `.csv` format. This facilitates further analysis or integration with external cheminformatics workflows.\n",
    "\n",
    "*Note: A final version of this section will include updated values and screenshots based on the exact molecule used during the oral demonstration.*\n"
   ]
  },
  {
   "cell_type": "markdown",
   "id": "73f24104",
   "metadata": {},
   "source": [
    "## 7. Testing and Validation"
   ]
  },
  {
   "cell_type": "markdown",
   "id": "f548ab53",
   "metadata": {},
   "source": [
    "To ensure reliability and maintainability, ChemCluster includes a suite of unit tests covering all core functionalities. These tests are located in the `tests/` directory and can be executed using either `pytest` or `tox`, ensuring compatibility across Python versions."
   ]
  },
  {
   "cell_type": "markdown",
   "id": "f4e1e91d",
   "metadata": {},
   "source": [
    "### 7.1 Coverage and Scope\n",
    "The following components are covered by unit tests:\n",
    "- `clean_smiles_list`: checks for SMILES parsing and molecule validity\n",
    "- `get_fingerprint`: verifies correct generation of Morgan fingerprints\n",
    "- `calculate_properties`: ensures property values match expected reference\n",
    "- `mol_to_base64_img`: validates base64 image string formatting\n",
    "- `show_3d_molecule`: checks py3Dmol viewer object creation"
   ]
  },
  {
   "cell_type": "markdown",
   "id": "6616aaf1",
   "metadata": {},
   "source": [
    "### 7.2 Example Test Snippet\n",
    "```python\n",
    "def test_calculate_properties():\n",
    "    mol = Chem.MolFromSmiles(\"CCO\")  # ethanol\n",
    "    result = calculate_properties(mol, mol_name=\"ethanol\")\n",
    "    assert isinstance(result, dict)\n",
    "    assert abs(result[\"Molecular Weight\"] - 46.07) < 0.1\n",
    "```"
   ]
  },
  {
   "cell_type": "markdown",
   "id": "9ed9f9ca",
   "metadata": {},
   "source": [
    "## 8. Challenges Faced\n",
    "\n",
    "While the development of ChemCluster was overall successful and rewarding, several technical and practical challenges emerged during the implementation and testing phases:\n",
    "\n",
    "- **Performance with large datasets or high conformer counts:**  \n",
    "  When processing large molecule sets or generating a high number of conformers (especially >200 per molecule), the application experienced significant slowdowns during 3D generation and clustering. This was particularly evident with long optimization times and memory consumption.\n",
    "\n",
    "- **3D visualization issues with certain SMILES:**  \n",
    "  Although py3Dmol generally worked well, some SMILES strings led to unexpected 3D representations or viewer artifacts. This may be linked to problematic stereochemistry or non-standard atom arrangements in the input data.\n",
    "\n",
    "- **Cross-platform compatibility limitations:**  \n",
    "  The app's dependencies (e.g. `py3Dmol`, `streamlit_plotly_events`) occasionally behaved differently between Windows and MacOS environments. Some packages required manual installation or specific version pinning depending on the OS.\n",
    "\n",
    "These limitations were addressed when possible and are documented for future improvements.\n",
    "\n"
   ]
  },
  {
   "cell_type": "markdown",
   "id": "13baffe9",
   "metadata": {},
   "source": [
    "## 9. Conclusion and Outlook\n",
    "\n",
    "ChemCluster has proven to be a functional and user-friendly cheminformatics platform for exploring molecular structures and clusters through RDKit and Streamlit. The application allows both single-molecule and dataset-based analyses, including conformer generation, clustering, property calculation, 2D/3D visualization, and interactive selection.\n",
    "\n",
    "The project successfully integrates key aspects of molecular analysis into a cohesive, visual, and reproducible workflow. It has been used to process real molecular inputs such as flavone, and demonstrates clear separation of molecular clusters, meaningful descriptor distributions, and smooth user interaction.\n",
    "\n",
    "While the main functionalities are complete and operational, additional features were considered during the development process. These include more advanced modeling or solution-phase interaction analysis, which were postponed in favor of keeping the application focused, functional, and robust.\n",
    "\n",
    "### Future Perspective\n",
    "\n",
    "A promising extension could be the visualization of hydrogen bonding interactions between different centroid conformers of a given molecule in solution. This would help investigate the possible over- or underestimation of transition states (TS) depending on conformer environments. Although this idea was not implemented in the final version, it remains a valuable direction for future work.\n"
   ]
  }
 ],
 "metadata": {
  "kernelspec": {
   "display_name": "chemcluster-env",
   "language": "python",
   "name": "python3"
  },
  "language_info": {
   "codemirror_mode": {
    "name": "ipython",
    "version": 3
   },
   "file_extension": ".py",
   "mimetype": "text/x-python",
   "name": "python",
   "nbconvert_exporter": "python",
   "pygments_lexer": "ipython3",
   "version": "3.10.17"
  }
 },
 "nbformat": 4,
 "nbformat_minor": 5
}
