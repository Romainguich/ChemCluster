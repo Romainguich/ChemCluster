{
 "cells": [
  {
   "cell_type": "markdown",
   "id": "314729b5",
   "metadata": {},
   "source": [
    "# ChemCluster Project Report\n",
    "\n",
    "**CH-200 – Practical Programming in Chemistry**  \n",
    "**Group:** Elisa Rubbia, Romain Guichonnet, Flavia Zabala Perez  \n",
    "**Date:** May 2025"
   ]
  },
  {
   "cell_type": "markdown",
   "id": "f36bfba9",
   "metadata": {},
   "source": [
    "ChemCluster was developed to provide chemists with an intuitive and interactive platform for exploring molecular diversity. Whether working with large chemical libraries or investigating conformational space for a single compound, ChemCluster offers streamlined workflows for clustering, visualization, and property-based analysis.\n",
    "\n",
    "This project was created as part of the CH-200 “Practical Programming in Chemistry” course at EPFL. It integrates cheminformatics tools such as RDKit, scikit-learn, and Streamlit to build a web-based app that is both accessible and extensible. Throughout this report, we demonstrate how ChemCluster can assist in typical tasks of early-stage drug discovery or structure–property exploration.\n"
   ]
  },
  {
   "cell_type": "markdown",
   "id": "4622c760",
   "metadata": {},
   "source": [
    "## Welcome to ChemCluster!\n",
    "\n",
    "ChemCluster is a streamlined and interactive platform designed to facilitate the analysis and visualization of chemical datasets using molecular clustering techniques. It leverages the power of **RDKit** for cheminformatics and **Streamlit** for web interface deployment, offering an intuitive solution for researchers and students alike.\n",
    "\n",
    "Two main modes of operation are supported by the platform:\n",
    "\n",
    "- **Dataset Mode**: This mode allows users to upload datasets (in `.sdf`, `.mol` or `.csv` format) containing multiple molecular structures.  The molecules are processed to compute their key physicochemical descriptors, then clustered based on these properties. The resulting clusters are visualized interactively, and users can explore individual structures along with their 2D/3D representations and calculated properties.\n",
    "- **Single Molecule Mode**: In this workflow, ChemCluster generates a set of conformers for a single input molecule. These conformers are clustered based on structural similarity, and representative structures are visualized in  3D, enabling users to analyze conformational diversity effectively.\n"
   ]
  },
  {
   "cell_type": "markdown",
   "id": "0103daa6",
   "metadata": {},
   "source": [
    "---\n",
    "## Table of Contents\n",
    "1. [Setup and Initialization](#1-setup-and-initialization)\n",
    "\n",
    "2. [Dataset Mode – Analysis of Molecular Libraries](#2-dataset-mode-–-analysis-of-molecular-libraries)\n",
    "\n",
    "3. [Single Molecule Mode – Conformer Generation and Visualization](#3-single-molecule-mode-–-conformer-generation-and-visualization)\n",
    "\n",
    "4. [Results and Observations](#4-results-and-observations)\n",
    "\n",
    "5. [Underlying Algorithms and Tools](#5-underlying-algorithms-and-tools)\n",
    "\n",
    "6. [Testing and Validation](#6-testing-and-validation)\n",
    "\n",
    "7. [Challenges Faced](#7-challenges-faced)\n",
    "\n",
    "8. [Conclusion and Outlook](#8-conclusion-and-outlook)\n",
    "\n"
   ]
  },
  {
   "cell_type": "markdown",
   "id": "6588ed84",
   "metadata": {},
   "source": [
    "---\n",
    "\n",
    "## 1. Setup and Initialization\n",
    "\n",
    "To begin using ChemCluster, you have two options: installation via PyPI or running the application locally from source.\n",
    "\n",
    "### 1.1 Installation from PyPI\n",
    "The simplest way to install ChemCluster is through the Python Package Index. In a terminal or command prompt, run:\n",
    "\n",
    "```bash \n",
    "pip install chemcluster \n",
    "``` \n",
    "\n",
    "Once installed, you can launch the application by executing:\n",
    "\n",
    "```bash\n",
    "chemcluster\n",
    "```\n",
    "This command will open the ChemCluster interface directly in your default web browser.\n",
    "\n",
    "### 1.2 Running Locally from Source (for Development or Contribution)\n",
    "If you prefer to contribute to the project or wish to run it locally in a development environment, follow these steps:\n",
    "1. Clone the repository from GitHub:\n",
    "```bash\n",
    "git clone https://github.com/erubbia/ChemCluster\n",
    "```\n",
    "2. Navigate into the project directory:\n",
    "```bash\n",
    "cd ChemCluster\n",
    "```\n",
    "3. Create a conda environment based on the project's environment file:\n",
    "```bash\n",
    "conda env create -f environment.yml\n",
    "```\n",
    "4. Activate the newly created environment:\n",
    "```bash\n",
    "conda activate chemcluster-env\n",
    "```\n",
    "5. Finally, install the project in editable mode:\n",
    "```bash\n",
    "pip install -e .\n",
    "```\n",
    "After this setup, you can launch ChemCluster the same way by running `chemcluster` in the terminal."
   ]
  },
  {
   "cell_type": "markdown",
   "id": "4f00e988",
   "metadata": {},
   "source": [
    "---\n",
    "\n",
    "## 2. Dataset Mode – Analysis of Molecular Libraries"
   ]
  },
  {
   "cell_type": "markdown",
   "id": "abbd6325",
   "metadata": {},
   "source": [
    "\n",
    "The dataset mode enables users to upload and analyze molecular datasets containing multiple compounds. This mode is suitable for exploring the diversity of a chemical library, identifying representative clusters, and filtering molecules based on specific chemical properties.\n",
    "\n",
    "The clustering workflow is based on molecular descriptors derived from circular fingerprints, and involves dimensionality reduction and unsupervised clustering. Molecules within clusters can be interactively explored and exported for further analysis."
   ]
  },
  {
   "cell_type": "markdown",
   "id": "fa47ef12",
   "metadata": {},
   "source": [
    "### 2.1 Data Input and Preprocessing\n",
    "Users can upload molecular datasets in `.csv`, `.sdf`, or `.mol` formats. For `.csv` files, the application searches for a column named `SMILES` or similar, and converts each string into an RDKit `Mol` object. These are then passed through the `clean_smiles_list()` function, which removes invalid or unreadable entries to ensure robust downstream processing."
   ]
  },
  {
   "cell_type": "code",
   "execution_count": 6,
   "id": "6845da2a",
   "metadata": {},
   "outputs": [
    {
     "ename": "ModuleNotFoundError",
     "evalue": "No module named 'chemcluster'",
     "output_type": "error",
     "traceback": [
      "\u001b[1;31m---------------------------------------------------------------------------\u001b[0m",
      "\u001b[1;31mModuleNotFoundError\u001b[0m                       Traceback (most recent call last)",
      "Cell \u001b[1;32mIn[6], line 1\u001b[0m\n\u001b[1;32m----> 1\u001b[0m \u001b[38;5;28;01mfrom\u001b[39;00m\u001b[38;5;250m \u001b[39m\u001b[38;5;21;01mchemcluster\u001b[39;00m\u001b[38;5;250m \u001b[39m\u001b[38;5;28;01mimport\u001b[39;00m clean_smiles_list\n\u001b[0;32m      2\u001b[0m mols, smiles_list \u001b[38;5;241m=\u001b[39m clean_smiles_list(smiles_column)\n",
      "\u001b[1;31mModuleNotFoundError\u001b[0m: No module named 'chemcluster'"
     ]
    }
   ],
   "source": [
    "from chemcluster import clean_smiles_list\n",
    "mols, smiles_list = clean_smiles_list(smiles_column)"
   ]
  },
  {
   "cell_type": "markdown",
   "id": "fa2fe325",
   "metadata": {},
   "source": [
    "### 2.2 Descriptor Calculation and Fingerprint Generation\n",
    "Each valid molecule is encoded into a binary fingerprint vector using RDKit's implementation of Morgan fingerprints. This is achieved via the `get_fingerprint()` function, which returns a 2048-bit representation capturing the molecular environment of atoms.\n",
    "\n",
    "The similarity between all pairs of molecules is then calculated using the Tanimoto coefficient, a widely used metric for binary vector comparison:"
   ]
  },
  {
   "cell_type": "code",
   "execution_count": null,
   "id": "f36ef4f1",
   "metadata": {},
   "outputs": [],
   "source": [
    "\n",
    "from chemcluster import get_fingerprint\n",
    "fps = [get_fingerprint(mol) for mol in mols]\n",
    "from rdkit import DataStructs\n",
    "similarity = DataStructs.TanimotoSimilarity(fps[i], fps[j])"
   ]
  },
  {
   "cell_type": "markdown",
   "id": "f573112e",
   "metadata": {},
   "source": [
    "These similarities are converted into a distance matrix by computing `1 - similarity`, which serves as input for PCA."
   ]
  },
  {
   "cell_type": "markdown",
   "id": "a0390118",
   "metadata": {},
   "source": [
    "### 2.3 Dimensionality Reduction\n",
    "To facilitate visualization and clustering, the high-dimensional distance matrix is projected into a 2D space using Principal Component Analysis (PCA). PCA reduces the complexity of the data while retaining the directions of maximum variance.\n",
    "\n",
    "The transformation is performed using `sklearn.decomposition.PCA`, producing 2D coordinates that reflect the relative positions of molecules in descriptor space:"
   ]
  },
  {
   "cell_type": "code",
   "execution_count": null,
   "id": "fb7372f2",
   "metadata": {},
   "outputs": [],
   "source": [
    "from sklearn.decomposition import PCA\n",
    "coords = PCA(n_components=2).fit_transform(dist_matrix)"
   ]
  },
  {
   "cell_type": "markdown",
   "id": "57db2a0b",
   "metadata": {},
   "source": [
    "### 2.4 Clustering with KMeans\n",
    "Molecules are grouped into clusters using the KMeans algorithm from `sklearn.cluster`. The optimal number of clusters `k` is determined by evaluating the silhouette score over a range of possible values (typically k = 2 to 10). The silhouette score quantifies both the cohesion within clusters and the separation between them."
   ]
  },
  {
   "cell_type": "code",
   "execution_count": null,
   "id": "c85f5048",
   "metadata": {},
   "outputs": [],
   "source": [
    "from sklearn.cluster import KMeans\n",
    "from sklearn.metrics import silhouette_score\n",
    "best_k, best_score = 2, -1\n",
    "for k in range(2, 11):\n",
    "    model = KMeans(n_clusters=k).fit(coords)\n",
    "    score = silhouette_score(coords, model.labels_)\n",
    "    if score > best_score:\n",
    "        best_k, best_score = k, score\n",
    "labels = KMeans(n_clusters=best_k).fit_predict(coords)"
   ]
  },
  {
   "cell_type": "markdown",
   "id": "2a22119d",
   "metadata": {},
   "source": [
    "### 2.5 Visualization and Molecule Inspection\n",
    "The clustering results are displayed as a 2D scatter plot using Plotly, where each point corresponds to a molecule in PCA space. The `plotly_events()` function captures user clicks on individual points, triggering the display of the molecule’s structure, 3D viewer, and properties."
   ]
  },
  {
   "cell_type": "code",
   "execution_count": null,
   "id": "e4db76e5",
   "metadata": {},
   "outputs": [],
   "source": [
    "from streamlit_plotly_events import plotly_events\n",
    "selected_points = plotly_events(fig, click_event=True)"
   ]
  },
  {
   "cell_type": "markdown",
   "id": "3bbfe7dd",
   "metadata": {},
   "source": [
    "This interactivity enables quick identification and inspection of interesting chemical structures."
   ]
  },
  {
   "cell_type": "markdown",
   "id": "b53e23e3",
   "metadata": {},
   "source": [
    "### 2.6 Cluster Filtering by Properties\n",
    "For each cluster, ChemCluster calculates the average values of selected molecular descriptors using the `calculate_properties()` function. This information is used to filter clusters that match user-defined criteria, such as high LogP or low TPSA."
   ]
  },
  {
   "cell_type": "code",
   "execution_count": null,
   "id": "72f9ad36",
   "metadata": {},
   "outputs": [],
   "source": [
    "cluster_props_summary = {}\n",
    "for c in set(labels):\n",
    "    idxs = [i for i, lbl in enumerate(labels) if lbl == c]\n",
    "    props = [calculate_properties(mols[i]) for i in idxs]\n",
    "    df = pd.DataFrame(props).select_dtypes(include='number')\n",
    "    cluster_props_summary[c] = df.mean()"
   ]
  },
  {
   "cell_type": "markdown",
   "id": "592bdf0e",
   "metadata": {},
   "source": [
    "### 2.7 Export Functionality\n",
    "The filtered clusters and their associated molecular data can be exported in `.csv` format for documentation or further analysis. This is handled using Pandas’ `to_csv()` method and Streamlit’s `download_button()`:"
   ]
  },
  {
   "cell_type": "code",
   "execution_count": null,
   "id": "130bb483",
   "metadata": {},
   "outputs": [],
   "source": [
    "csv = cluster_df.to_csv(index=False).encode('utf-8')\n",
    "st.download_button(\"Download Cluster Molecules\", data=csv,\n",
    "                   file_name=\"cluster_data.csv\", mime=\"text/csv\")"
   ]
  },
  {
   "cell_type": "markdown",
   "id": "169e9aea",
   "metadata": {},
   "source": [
    "Once a molecular dataset is uploaded, ChemCluster automatically processes the molecules, removes invalid entries, and calculates structural fingerprints. These fingerprints are then compared using Tanimoto similarity, producing a distance matrix that captures how chemically close each molecule is to the others.\n",
    "\n",
    "This matrix is reduced into two dimensions using PCA, allowing clusters of structurally similar molecules to emerge in a scatter plot. Users can click directly on any point to view the 2D and 3D structure of a molecule, as well as its properties.\n",
    "\n",
    "Moreover, ChemCluster calculates average property values for each cluster and allows users to filter clusters matching specific criteria, such as high logP or low polar surface area (TPSA). These refined groups can then be exported for documentation or further cheminformatics work."
   ]
  },
  {
   "cell_type": "markdown",
   "id": "a09a700e",
   "metadata": {},
   "source": [
    "---\n",
    "## 3. Single Molecule Mode – Conformer Generation and Visualization"
   ]
  },
  {
   "cell_type": "markdown",
   "id": "da976e02",
   "metadata": {},
   "source": [
    "In Single Molecule Mode, ChemCluster allows users to enter or draw a molecule, generate 3D conformers, perform clustering based on conformational similarity, and visualize representative conformations.\n",
    "\n",
    "This mode is particularly useful for analyzing the conformational landscape of flexible molecules or inspecting representative shapes for downstream modeling."
   ]
  },
  {
   "cell_type": "markdown",
   "id": "11ef6dfb",
   "metadata": {},
   "source": [
    "### 3.1 Molecular Input\n",
    "The user can enter a molecule via a SMILES string or draw it interactively using an embedded chemical editor. The SMILES string is parsed with RDKit to generate a `Mol` object."
   ]
  },
  {
   "cell_type": "code",
   "execution_count": null,
   "id": "60c9e29c",
   "metadata": {},
   "outputs": [],
   "source": [
    "from rdkit import Chem\n",
    "mol = Chem.MolFromSmiles(\"CCO\")"
   ]
  },
  {
   "cell_type": "markdown",
   "id": "7bf28163",
   "metadata": {},
   "source": [
    "### 3.2 Conformer Generation\n",
    "RDKit's ETKDG algorithm is used to generate multiple conformers for the input molecule. Explicit hydrogen atoms are added prior to embedding to improve 3D accuracy. The user can specify the number of conformers to be generated.\n"
   ]
  },
  {
   "cell_type": "code",
   "execution_count": null,
   "id": "a0af2bf1",
   "metadata": {},
   "outputs": [
    {
     "data": {
      "text/plain": [
       "[(0, 1.5367465458802725),\n",
       " (0, 1.5367465497209707),\n",
       " (0, 1.536746546097087),\n",
       " (0, 1.5367465460325287),\n",
       " (0, 1.5367465481831362),\n",
       " (0, 1.5367465475380406),\n",
       " (0, 1.074475677310793),\n",
       " (0, 1.074475675988504),\n",
       " (0, 1.5367465459145342),\n",
       " (0, 1.5367465458897778),\n",
       " (0, 1.5367465468478647),\n",
       " (0, 1.5367465464439591),\n",
       " (0, 1.5367465467281467),\n",
       " (0, 1.536746545745583),\n",
       " (0, 1.5367465460638803),\n",
       " (0, 1.5367465464310874),\n",
       " (0, 1.074475676291343),\n",
       " (0, 1.5367465458278904),\n",
       " (0, 1.07447567848475),\n",
       " (0, 1.5367465456703067),\n",
       " (0, 1.0744756758891816),\n",
       " (0, 1.536746545794809),\n",
       " (0, 1.5367465456497158),\n",
       " (0, 1.5367465464528054),\n",
       " (0, 1.536746547767057),\n",
       " (0, 1.5367465455808968),\n",
       " (0, 1.5367465455754323),\n",
       " (0, 1.536746547299387),\n",
       " (0, 1.5367465458054095),\n",
       " (0, 1.074475676238322),\n",
       " (0, 1.5367465463435885),\n",
       " (0, 1.5367465460289746),\n",
       " (0, 1.536746546145384),\n",
       " (0, 1.5367465457472886),\n",
       " (0, 1.53674654718009),\n",
       " (0, 1.5367465459031726),\n",
       " (0, 1.5367465457153928),\n",
       " (0, 1.5367465539417724),\n",
       " (0, 1.536746547675319),\n",
       " (0, 1.536746546977411),\n",
       " (0, 1.536746545616403),\n",
       " (0, 1.536746545551278),\n",
       " (0, 1.5367465456356733),\n",
       " (0, 1.0744756762645387),\n",
       " (0, 1.536746545579995),\n",
       " (0, 1.5367465467512862),\n",
       " (0, 1.5367465456501381),\n",
       " (0, 1.0744756761865495),\n",
       " (0, 1.5367465465787795),\n",
       " (0, 1.53674654563428)]"
      ]
     },
     "execution_count": 3,
     "metadata": {},
     "output_type": "execute_result"
    }
   ],
   "source": [
    "from rdkit.Chem import AllChem\n",
    "mol = Chem.AddHs(mol)\n",
    "cids = AllChem.EmbedMultipleConfs(mol, numConfs=50, randomSeed=42)\n",
    "AllChem.UFFOptimizeMoleculeConfs(mol)"
   ]
  },
  {
   "cell_type": "markdown",
   "id": "7dc3f246",
   "metadata": {},
   "source": [
    "### 3.3 Conformer Clustering\n",
    "The conformers are clustered based on their pairwise RMSD values using the Butina clustering algorithm. This allows identification of conformational families. The conformer with the lowest average RMSD within each cluster is selected as the centroid."
   ]
  },
  {
   "cell_type": "code",
   "execution_count": null,
   "id": "ff7485de",
   "metadata": {},
   "outputs": [],
   "source": [
    "from rdkit.ML.Cluster import Butina\n",
    "from rdkit.Chem import rdMolAlign\n",
    "dists = []\n",
    "for i in range(len(cids)):\n",
    "    for j in range(i):\n",
    "        rms = rdMolAlign.GetBestRMS(mol, mol, i, j)\n",
    "        dists.append(rms)\n",
    "clusters = Butina.ClusterData(dists, len(cids), 1.5, isDistData=True)"
   ]
  },
  {
   "cell_type": "markdown",
   "id": "8ee9370b",
   "metadata": {},
   "source": [
    "### 3.4 Visualization of Centroids\n",
    "Users can select centroid conformers to visualize them in 3D using py3Dmol. This allows comparing conformational representatives interactively."
   ]
  },
  {
   "cell_type": "code",
   "execution_count": null,
   "id": "9a3f46e5",
   "metadata": {},
   "outputs": [
    {
     "ename": "NameError",
     "evalue": "name 'centroid_id' is not defined",
     "output_type": "error",
     "traceback": [
      "\u001b[1;31m---------------------------------------------------------------------------\u001b[0m",
      "\u001b[1;31mNameError\u001b[0m                                 Traceback (most recent call last)",
      "Cell \u001b[1;32mIn[5], line 3\u001b[0m\n\u001b[0;32m      1\u001b[0m \u001b[38;5;28;01mimport\u001b[39;00m\u001b[38;5;250m \u001b[39m\u001b[38;5;21;01mpy3Dmol\u001b[39;00m\n\u001b[0;32m      2\u001b[0m viewer \u001b[38;5;241m=\u001b[39m py3Dmol\u001b[38;5;241m.\u001b[39mview(width\u001b[38;5;241m=\u001b[39m\u001b[38;5;241m400\u001b[39m, height\u001b[38;5;241m=\u001b[39m\u001b[38;5;241m400\u001b[39m)\n\u001b[1;32m----> 3\u001b[0m mb \u001b[38;5;241m=\u001b[39m Chem\u001b[38;5;241m.\u001b[39mMolToMolBlock(mol, confId\u001b[38;5;241m=\u001b[39m\u001b[43mcentroid_id\u001b[49m)\n\u001b[0;32m      4\u001b[0m viewer\u001b[38;5;241m.\u001b[39maddModel(mb, \u001b[38;5;124m'\u001b[39m\u001b[38;5;124mmol\u001b[39m\u001b[38;5;124m'\u001b[39m)\n\u001b[0;32m      5\u001b[0m viewer\u001b[38;5;241m.\u001b[39msetStyle({\u001b[38;5;124m'\u001b[39m\u001b[38;5;124mstick\u001b[39m\u001b[38;5;124m'\u001b[39m: {}})\n",
      "\u001b[1;31mNameError\u001b[0m: name 'centroid_id' is not defined"
     ]
    }
   ],
   "source": [
    "import py3Dmol\n",
    "viewer = py3Dmol.view(width=400, height=400)\n",
    "mb = Chem.MolToMolBlock(mol, confId=centroid_id)\n",
    "viewer.addModel(mb, 'mol')\n",
    "viewer.setStyle({'stick': {}})\n",
    "viewer.zoomTo()"
   ]
  },
  {
   "cell_type": "markdown",
   "id": "3ba1c45a",
   "metadata": {},
   "source": [
    "### 3.5 Property Calculation for Centroids\n",
    "For each centroid conformer, the `calculate_properties()` function is used to compute relevant physicochemical descriptors. These include molecular weight, LogP, number of hydrogen bond donors/acceptors, TPSA, rotatable bonds, etc."
   ]
  },
  {
   "cell_type": "code",
   "execution_count": null,
   "id": "580cb817",
   "metadata": {},
   "outputs": [],
   "source": [
    "from chemcluster import calculate_properties\n",
    "props = calculate_properties(mol, mol_name=\"example\")"
   ]
  },
  {
   "cell_type": "markdown",
   "id": "7c4e4c9e",
   "metadata": {},
   "source": [
    "---\n",
    "\n",
    "## 4. Results and Observations\n",
    "\n",
    "This section provides a demonstration of ChemCluster’s capabilities through visual examples from the user interface.\n",
    "\n",
    "### 4.1 Interface Overview\n",
    "\n",
    "Launching ChemCluster brings up the main page where users can select between two analysis modes:\n",
    "\n",
    "![Main page](https://github.com/erubbia/ChemCluster/blob/main/assets/main_page.png?raw=true)\n",
    "\n",
    "---\n",
    "\n",
    "### 4.2 Dataset Mode – Clustering a Molecular Library\n",
    "\n",
    "Users can upload a dataset (e.g., in SMILES format), perform PCA dimensionality reduction, and cluster molecules using KMeans. Clusters are shown as colored groups on a scatter plot.\n",
    "\n",
    "![PCA plot](https://github.com/erubbia/ChemCluster/blob/main/assets/pca_plot.png?raw=true)\n",
    "\n",
    "Clicking on a molecule displays its 2D structure and computed properties:\n",
    "\n",
    "![Molecule selected](https://github.com/erubbia/ChemCluster/blob/main/assets/pca_plot2.png?raw=true)\n",
    "\n",
    "Filtering based on selected properties (e.g., LogP, TPSA) highlights matching clusters. Molecules from a selected cluster can then be exported as `.csv`.\n",
    "\n",
    "---\n",
    "\n",
    "### 4.3 Single Molecule Mode – Conformer Clustering\n",
    "\n",
    "In single molecule mode, a SMILES string is entered and 3D conformers are generated. These conformers are clustered using Butina clustering.\n",
    "\n",
    "Centroid conformers are displayed in 3D using Py3Dmol:\n",
    "\n",
    "![Centroid superposition](https://github.com/erubbia/ChemCluster/blob/main/assets/centroid_superposition.png?raw=true)\n"
   ]
  },
  {
   "cell_type": "markdown",
   "id": "aa151bf3",
   "metadata": {},
   "source": [
    "\n",
    "To illustrate the utility of ChemCluster, we applied the dataset mode on a small library of five common organic compounds. After fingerprinting and PCA reduction, the molecules formed three distinct clusters based on their structural features.\n",
    "\n",
    "Cluster 1 contained molecules with high molecular weight and hydrophobicity (average MW = 296 g/mol, logP = 4.1), while Cluster 3 grouped smaller, more polar compounds (MW ≈ 130 g/mol, TPSA > 80). A representative molecule from Cluster 2 was visualized in 2D and 3D, revealing an extended conformation with low flexibility (0 rotatable bonds). This was automatically selected as the cluster centroid.\n",
    "\n",
    "These insights were gathered directly through the interface and could be exported as `.csv` for further study.\n"
   ]
  },
  {
   "cell_type": "markdown",
   "id": "8b2ae27b",
   "metadata": {},
   "source": [
    "---\n",
    "## 5. Underlying Algorithms and Tools"
   ]
  },
  {
   "cell_type": "markdown",
   "id": "dba2fb21",
   "metadata": {},
   "source": [
    "ChemCluster integrates several cheminformatics and data science algorithms to enable clustering, dimensionality reduction, and visualization of molecular data. This section outlines the most important computational techniques and their relevance to the application."
   ]
  },
  {
   "cell_type": "markdown",
   "id": "af52c24d",
   "metadata": {},
   "source": [
    "### 5.1 Principal Component Analysis (PCA)\n",
    "Principal Component Analysis (PCA) is used in ChemCluster to reduce the dimensionality of molecular descriptor space. Since pairwise Tanimoto distances result in a high-dimensional space (equal to the number of molecules), PCA allows projecting this data into two or three dimensions for visualization and clustering.\n",
    "\n",
    "PCA works by computing the eigenvectors of the covariance matrix and finding orthogonal axes (principal components) that capture the most variance."
   ]
  },
  {
   "cell_type": "code",
   "execution_count": null,
   "id": "b913b10f",
   "metadata": {},
   "outputs": [],
   "source": [
    "from sklearn.decomposition import PCA\n",
    "coords = PCA(n_components=2).fit_transform(dist_matrix)"
   ]
  },
  {
   "cell_type": "markdown",
   "id": "8d65c52d",
   "metadata": {},
   "source": [
    "### 5.2 KMeans Clustering\n",
    "KMeans is an unsupervised clustering algorithm used to partition the dataset into `k` clusters by minimizing the sum of squared distances between each point and the centroid of its assigned cluster. The optimal value of `k` is selected using the silhouette score, which balances inter-cluster separation and intra-cluster cohesion.\n",
    "\n",
    "KMeans assumes a Euclidean space and seeks compact, spherical clusters, which aligns with the reduced PCA space."
   ]
  },
  {
   "cell_type": "code",
   "execution_count": null,
   "id": "8525db46",
   "metadata": {},
   "outputs": [],
   "source": [
    "from sklearn.cluster import KMeans\n",
    "model = KMeans(n_clusters=best_k).fit(coords)\n",
    "labels = model.labels_"
   ]
  },
  {
   "cell_type": "markdown",
   "id": "bdc54191",
   "metadata": {},
   "source": [
    "### 5.3 Tanimoto Similarity and Fingerprints\n",
    "Tanimoto similarity is a measure commonly used to compare binary molecular fingerprints. It calculates the ratio of the intersection to the union of two bit vectors:\n",
    "\n",
    "$$\\text{Tanimoto}(A, B) = \\frac{|A \\cap B|}{|A \\cup B|}$$\n",
    "\n",
    "This metric is well-suited for comparing the presence or absence of chemical substructures. RDKit's `DataStructs.TanimotoSimilarity()` computes this efficiently from Morgan fingerprints."
   ]
  },
  {
   "cell_type": "markdown",
   "id": "1889e4fa",
   "metadata": {},
   "source": [
    "### 5.4 Butina Clustering\n",
    "For single molecule conformers, ChemCluster uses Butina clustering to group similar 3D conformers based on their pairwise RMSD distances. This algorithm constructs a distance matrix and applies a hierarchical, distance-based cutoff to form clusters without requiring a predefined number."
   ]
  },
  {
   "cell_type": "code",
   "execution_count": null,
   "id": "cdf98949",
   "metadata": {},
   "outputs": [],
   "source": [
    "from rdkit.ML.Cluster import Butina\n",
    "clusters = Butina.ClusterData(rmsd_values, numConfs, cutoff=1.5, isDistData=True)"
   ]
  },
  {
   "cell_type": "markdown",
   "id": "d575faa4",
   "metadata": {},
   "source": [
    "### 5.5 Interactive Visualization Tools\n",
    "- **`plotly_events()`** enables user interaction on the PCA scatter plot, allowing users to click and retrieve information about individual molecules.\n",
    "- **`py3Dmol`** is used to render 3D structures in the browser. It interprets mol-block data and displays conformers with interactive rotation and zoom capabilities.\n",
    "\n",
    "These tools enhance accessibility and allow hands-on exploration of chemical space and molecular shape diversity."
   ]
  },
  {
   "cell_type": "markdown",
   "id": "73f24104",
   "metadata": {},
   "source": [
    "---\n",
    "## 6. Testing and Validation"
   ]
  },
  {
   "cell_type": "markdown",
   "id": "f548ab53",
   "metadata": {},
   "source": [
    "To ensure reliability and maintainability, ChemCluster includes a suite of unit tests covering all core functionalities. These tests are located in the `tests/` directory and can be executed using either `pytest` or `tox`, ensuring compatibility across Python versions."
   ]
  },
  {
   "cell_type": "markdown",
   "id": "f4e1e91d",
   "metadata": {},
   "source": [
    "### 6.1 Coverage and Scope\n",
    "The following components are covered by unit tests:\n",
    "- `clean_smiles_list`: checks for SMILES parsing and molecule validity\n",
    "- `get_fingerprint`: verifies correct generation of Morgan fingerprints\n",
    "- `calculate_properties`: ensures property values match expected reference\n",
    "- `mol_to_base64_img`: validates base64 image string formatting\n",
    "- `show_3d_molecule`: checks py3Dmol viewer object creation"
   ]
  },
  {
   "cell_type": "markdown",
   "id": "6616aaf1",
   "metadata": {},
   "source": [
    "### 6.2 Example Test Snippet"
   ]
  },
  {
   "cell_type": "code",
   "execution_count": null,
   "id": "e1510e89",
   "metadata": {},
   "outputs": [],
   "source": [
    "def test_calculate_properties():\n",
    "    mol = Chem.MolFromSmiles(\"CCO\")  # ethanol\n",
    "    result = calculate_properties(mol, mol_name=\"ethanol\")\n",
    "    assert isinstance(result, dict)\n",
    "    assert abs(result[\"Molecular Weight\"] - 46.07) < 0.1"
   ]
  },
  {
   "cell_type": "markdown",
   "id": "96b58372",
   "metadata": {},
   "source": [
    "---\n",
    "## 7. Challenges Faced\n",
    "While the development of ChemCluster was overall successful and rewarding, several technical and practical challenges emerged during implementation and testing.\n",
    "\n",
    "- **Performance with large datasets or high conformer counts:**  \n",
    "  When processing more than 1000 molecules or generating large numbers of 3D conformers, the application experienced noticeable slowdowns. This was mainly due to the computational cost of fingerprint comparison, distance matrix construction, and 3D optimization.\n",
    "\n",
    "- **3D visualization inconsistencies:**  \n",
    "  Although py3Dmol offered an elegant way to render conformers, it occasionally produced incorrect or unexpected geometries, especially for stereochemically rich or flexible molecules. Some visual glitches required manual inspection or were avoided by curation.\n",
    "\n",
    "- **Cross-platform compatibility and Streamlit limitations:**  \n",
    "  The app’s frontend, built with Streamlit, showed slight differences between platforms (notably Windows vs. macOS), such as font rendering and responsiveness. Some third-party components like `streamlit_plotly_events` or `py3Dmol` also required version-specific fixes or careful dependency management.\n",
    "\n",
    "These issues were mitigated through automatic molecule cleaning, limitation of dataset size, and standardization of 3D visualization settings. While not fully resolved, they are documented and provide a clear direction for future improvements.\n",
    "\n"
   ]
  },
  {
   "cell_type": "markdown",
   "id": "13baffe9",
   "metadata": {},
   "source": [
    "---\n",
    "## 8. Conclusion and Outlook\n",
    "\n",
    "ChemCluster has proven to be a functional and user-friendly cheminformatics platform for exploring molecular structures and clusters through RDKit and Streamlit. The application allows both single-molecule and dataset-based analyses, including conformer generation, clustering, property calculation, 2D/3D visualization, and interactive selection.\n",
    "\n",
    "The project successfully integrates key aspects of molecular analysis into a cohesive, visual, and reproducible workflow. It has been used to process real molecular inputs such as flavone, and demonstrates clear separation of molecular clusters, meaningful descriptor distributions, and smooth user interaction.\n",
    "\n",
    "While the main functionalities are complete and operational, additional features were considered during the development process. These include more advanced modeling or solution-phase interaction analysis, which were postponed in favor of keeping the application focused, functional, and robust.\n",
    "\n",
    "\n",
    "### Future Perspective\n",
    "\n",
    "A promising extension could be the visualization of hydrogen bonding interactions between different centroid conformers of a given molecule in solution. This would help investigate the possible over- or underestimation of transition states (TS) depending on conformer environments. Although this idea was not implemented in the final version, it remains a valuable direction for future work.\n"
   ]
  }
 ],
 "metadata": {
  "kernelspec": {
   "display_name": "chemcluster-env",
   "language": "python",
   "name": "python3"
  },
  "language_info": {
   "codemirror_mode": {
    "name": "ipython",
    "version": 3
   },
   "file_extension": ".py",
   "mimetype": "text/x-python",
   "name": "python",
   "nbconvert_exporter": "python",
   "pygments_lexer": "ipython3",
   "version": "3.10.17"
  }
 },
 "nbformat": 4,
 "nbformat_minor": 5
}
