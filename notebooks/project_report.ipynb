{
 "cells": [
  {
   "cell_type": "markdown",
   "id": "314729b5",
   "metadata": {},
   "source": [
    "# ChemCluster Project Report\n",
    "\n",
    "**CH-200 – Practical Programming in Chemistry**  \n",
    "**Group:** Elisa Rubbia, Romain Guichonnet, Flavia Zabala Perez  \n",
    "**Date:** May 2025\n"
   ]
  },
  {
   "cell_type": "markdown",
   "id": "4622c760",
   "metadata": {},
   "source": [
    "## Welcome to ChemCluster!\n",
    "\n",
    "ChemCluster is a streamlined and interactive platform designed to facilitate the analysis and visualization of chemical datasets using molecular clustering techniques. It leverages the power of **RDKit** for cheminformatics and **Streamlit** for web interface deployment, offering an intuitive solution for researchers and students alike.\n",
    "\n",
    "Two main modes of operation are supported by the platform:\n",
    "\n",
    "- **Dataset Mode**: This mode allows users to upload datasets (in `.csv` or `.sdf` format) containing multiple molecular structures. These are then clustered based on structural similarity, and representative structures for each cluster are highlighted for further exploration.\n",
    "- **Single Molecule Mode**: In this workflow, ChemCluster generates a set of 3D conformers for a single input molecule. These conformers are clustered, and representative structures are visualized both in 2D and 3D, enabling users to analyze conformational diversity effectively."
   ]
  },
  {
   "cell_type": "markdown",
   "id": "6588ed84",
   "metadata": {},
   "source": [
    "## Setup and Initialization\n",
    "\n",
    "To begin using ChemCluster, you have two options: installation via PyPI or running the application locally from source.\n",
    "\n",
    "### Installation from PyPI\n",
    "The simplest way to install ChemCluster is through the Python Package Index. In a terminal or command prompt, run:\n",
    "\n",
    "```bash\n",
    "pip install chemcluster\n",
    "```\n",
    "Once installed, you can launch the application by executing:\n",
    "\n",
    "```bash\n",
    "chemcluster\n",
    "```\n",
    "This command will open the ChemCluster interface directly in your default web browser.\n",
    "\n",
    "### Running Locally from Source (for Development or Contribution)\n",
    "If you prefer to contribute to the project or wish to run it locally in a development environment, follow these steps:\n",
    "1. Clone the repository from GitHub:\n",
    "```bash\n",
    "git clone https://github.com/erubbia/ChemCluster\n",
    "```\n",
    "2. Navigate into the project directory:\n",
    "```bash\n",
    "cd ChemCluster\n",
    "```\n",
    "3. Create a conda environment based on the project's environment file:\n",
    "```bash\n",
    "conda env create -f environment.yml\n",
    "```\n",
    "4. Activate the newly created environment:\n",
    "```bash\n",
    "conda activate chemcluster-env\n",
    "```\n",
    "5. Finally, install the project in editable mode:\n",
    "```bash\n",
    "pip install -e .\n",
    "```\n",
    "After this setup, you can launch ChemCluster the same way by running `chemcluster` in the terminal."
   ]
  }
 ],
 "metadata": {
  "kernelspec": {
   "display_name": "chemcluster-env",
   "language": "python",
   "name": "python3"
  },
  "language_info": {
   "codemirror_mode": {
    "name": "ipython",
    "version": 3
   },
   "file_extension": ".py",
   "mimetype": "text/x-python",
   "name": "python",
   "nbconvert_exporter": "python",
   "pygments_lexer": "ipython3",
   "version": "3.10.17"
  }
 },
 "nbformat": 4,
 "nbformat_minor": 5
}
