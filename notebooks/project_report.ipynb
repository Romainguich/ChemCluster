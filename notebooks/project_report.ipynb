{
 "cells": [
  {
   "cell_type": "markdown",
   "id": "903acb8d",
   "metadata": {},
   "source": [
    "# Welcome to **MolSearch !!** \n"
   ]
  },
  {
   "cell_type": "markdown",
   "id": "436376a9",
   "metadata": {},
   "source": [
    "**💼 Initialization of the Notebook** <br> "
   ]
  }
 ],
 "metadata": {
  "kernelspec": {
   "display_name": "molsearch",
   "language": "python",
   "name": "python3"
  },
  "language_info": {
   "name": "python",
   "version": "3.12.7"
  }
 },
 "nbformat": 4,
 "nbformat_minor": 5
}
