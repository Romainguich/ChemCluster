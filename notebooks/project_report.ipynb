{
 "cells": [
  {
   "cell_type": "markdown",
   "id": "314729b5",
   "metadata": {},
   "source": [
    "# ChemCluster Project Report\n",
    "\n",
    "**CH-200 – Practical Programming in Chemistry**  \n",
    "**Group:** Elisa Rubbia, Romain Guichonnet, Flavia Zabala Perez  \n",
    "**Date:** May 2025"
   ]
  },
  {
   "cell_type": "markdown",
   "id": "4622c760",
   "metadata": {},
   "source": [
    "## Welcome to ChemCluster!\n",
    "\n",
    "ChemCluster is a streamlined and interactive platform designed to facilitate the analysis and visualization of chemical datasets using molecular clustering techniques. It leverages the power of **RDKit** for cheminformatics and **Streamlit** for web interface deployment, offering an intuitive solution for researchers and students alike.\n",
    "\n",
    "Two main modes of operation are supported by the platform:\n",
    "\n",
    "- **Dataset Mode**: This mode allows users to upload datasets (in `.sdf`, `.mol` or `.csv` format) containing multiple molecular structures.  The molecules are processed to compute their key physicochemical descriptors, then clustered based on these properties. The resulting clusters are visualized interactively, and users can explore individual structures along with their 2D/3D representations and calculated properties.\n",
    "- **Single Molecule Mode**: In this workflow, ChemCluster generates a set of conformers for a single input molecule. These conformers are clustered based on structural similarity, and representative structures are visualized in  3D, enabling users to analyze conformational diversity effectively."
   ]
  },
  {
   "cell_type": "markdown",
   "id": "6588ed84",
   "metadata": {},
   "source": [
    "## 1. Setup and Initialization\n",
    "\n",
    "To begin using ChemCluster, you have two options: installation via PyPI or running the application locally from source.\n",
    "\n",
    "### 1.1 Installation from PyPI\n",
    "The simplest way to install ChemCluster is through the Python Package Index. In a terminal or command prompt, run:\n",
    "\n",
    "```bash \n",
    "pip install chemcluster \n",
    "``` \n",
    "\n",
    "Once installed, you can launch the application by executing:\n",
    "\n",
    "```bash\n",
    "chemcluster\n",
    "```\n",
    "This command will open the ChemCluster interface directly in your default web browser.\n",
    "\n",
    "### 1.2 Running Locally from Source (for Development or Contribution)\n",
    "If you prefer to contribute to the project or wish to run it locally in a development environment, follow these steps:\n",
    "1. Clone the repository from GitHub:\n",
    "```bash\n",
    "git clone https://github.com/erubbia/ChemCluster\n",
    "```\n",
    "2. Navigate into the project directory:\n",
    "```bash\n",
    "cd ChemCluster\n",
    "```\n",
    "3. Create a conda environment based on the project's environment file:\n",
    "```bash\n",
    "conda env create -f environment.yml\n",
    "```\n",
    "4. Activate the newly created environment:\n",
    "```bash\n",
    "conda activate chemcluster-env\n",
    "```\n",
    "5. Finally, install the project in editable mode:\n",
    "```bash\n",
    "pip install -e .\n",
    "```\n",
    "After this setup, you can launch ChemCluster the same way by running `chemcluster` in the terminal."
   ]
  },
  {
   "cell_type": "markdown",
   "id": "4f00e988",
   "metadata": {},
   "source": [
    "## 2. Dataset Mode – Analysis of Molecular Libraries"
   ]
  },
  {
   "cell_type": "markdown",
   "id": "abbd6325",
   "metadata": {},
   "source": [
    "The dataset mode enables users to upload and analyze molecular datasets containing multiple compounds. This mode is suitable for exploring the diversity of a chemical library, identifying representative clusters, and filtering molecules based on specific chemical properties.\n",
    "\n",
    "The clustering workflow is based on molecular descriptors derived from circular fingerprints, and involves dimensionality reduction and unsupervised clustering. Molecules within clusters can be interactively explored and exported for further analysis."
   ]
  },
  {
   "cell_type": "markdown",
   "id": "fa47ef12",
   "metadata": {},
   "source": [
    "### 2.1 Data Input and Preprocessing\n",
    "Users can upload molecular datasets in `.csv`, `.sdf`, or `.mol` formats. For `.csv` files, the application searches for a column named `SMILES` or similar, and converts each string into an RDKit `Mol` object. These are then passed through the `clean_smiles_list()` function, which removes invalid or unreadable entries to ensure robust downstream processing.\n",
    "\n",
    "```python\n",
    "from chemcluster import clean_smiles_list\n",
    "mols, smiles_list = clean_smiles_list(smiles_column)\n",
    "```"
   ]
  },
  {
   "cell_type": "markdown",
   "id": "fa2fe325",
   "metadata": {},
   "source": [
    "### 2.2 Descriptor Calculation and Fingerprint Generation\n",
    "Each valid molecule is encoded into a binary fingerprint vector using RDKit's implementation of Morgan fingerprints. This is achieved via the `get_fingerprint()` function, which returns a 2048-bit representation capturing the molecular environment of atoms.\n",
    "\n",
    "The similarity between all pairs of molecules is then calculated using the Tanimoto coefficient, a widely used metric for binary vector comparison:"
   ]
  },
  {
   "cell_type": "code",
   "execution_count": null,
   "id": "f36ef4f1",
   "metadata": {},
   "outputs": [],
   "source": [
    "\n",
    "from chemcluster import get_fingerprint\n",
    "fps = [get_fingerprint(mol) for mol in mols]\n",
    "from rdkit import DataStructs\n",
    "similarity = DataStructs.TanimotoSimilarity(fps[i], fps[j])"
   ]
  },
  {
   "cell_type": "markdown",
   "id": "f573112e",
   "metadata": {},
   "source": [
    "These similarities are converted into a distance matrix by computing `1 - similarity`, which serves as input for PCA."
   ]
  },
  {
   "cell_type": "markdown",
   "id": "a0390118",
   "metadata": {},
   "source": [
    "### 2.3 Dimensionality Reduction\n",
    "To facilitate visualization and clustering, the high-dimensional distance matrix is projected into a 2D space using Principal Component Analysis (PCA). PCA reduces the complexity of the data while retaining the directions of maximum variance.\n",
    "\n",
    "The transformation is performed using `sklearn.decomposition.PCA`, producing 2D coordinates that reflect the relative positions of molecules in descriptor space:\n",
    "```python\n",
    "from sklearn.decomposition import PCA\n",
    "coords = PCA(n_components=2).fit_transform(dist_matrix)\n",
    "```"
   ]
  },
  {
   "cell_type": "markdown",
   "id": "57db2a0b",
   "metadata": {},
   "source": [
    "### 2.4 Clustering with KMeans\n",
    "Molecules are grouped into clusters using the KMeans algorithm from `sklearn.cluster`. The optimal number of clusters `k` is determined by evaluating the silhouette score over a range of possible values (typically k = 2 to 10). The silhouette score quantifies both the cohesion within clusters and the separation between them."
   ]
  },
  {
   "cell_type": "code",
   "execution_count": null,
   "id": "c85f5048",
   "metadata": {},
   "outputs": [],
   "source": [
    "from sklearn.cluster import KMeans\n",
    "from sklearn.metrics import silhouette_score\n",
    "best_k, best_score = 2, -1\n",
    "for k in range(2, 11):\n",
    "    model = KMeans(n_clusters=k).fit(coords)\n",
    "    score = silhouette_score(coords, model.labels_)\n",
    "    if score > best_score:\n",
    "        best_k, best_score = k, score\n",
    "labels = KMeans(n_clusters=best_k).fit_predict(coords)"
   ]
  },
  {
   "cell_type": "markdown",
   "id": "2a22119d",
   "metadata": {},
   "source": [
    "### 2.5 Visualization and Molecule Inspection\n",
    "The clustering results are displayed as a 2D scatter plot using Plotly, where each point corresponds to a molecule in PCA space. The `plotly_events()` function captures user clicks on individual points, triggering the display of the molecule’s structure, 3D viewer, and properties."
   ]
  },
  {
   "cell_type": "code",
   "execution_count": null,
   "id": "e4db76e5",
   "metadata": {},
   "outputs": [],
   "source": [
    "from streamlit_plotly_events import plotly_events\n",
    "selected_points = plotly_events(fig, click_event=True)"
   ]
  },
  {
   "cell_type": "markdown",
   "id": "3bbfe7dd",
   "metadata": {},
   "source": [
    "This interactivity enables quick identification and inspection of interesting chemical structures."
   ]
  },
  {
   "cell_type": "markdown",
   "id": "b53e23e3",
   "metadata": {},
   "source": [
    "### 2.6 Cluster Filtering by Properties\n",
    "For each cluster, ChemCluster calculates the average values of selected molecular descriptors using the `calculate_properties()` function. This information is used to filter clusters that match user-defined criteria, such as high LogP or low TPSA."
   ]
  },
  {
   "cell_type": "code",
   "execution_count": null,
   "id": "72f9ad36",
   "metadata": {},
   "outputs": [],
   "source": [
    "cluster_props_summary = {}\n",
    "for c in set(labels):\n",
    "    idxs = [i for i, lbl in enumerate(labels) if lbl == c]\n",
    "    props = [calculate_properties(mols[i]) for i in idxs]\n",
    "    df = pd.DataFrame(props).select_dtypes(include='number')\n",
    "    cluster_props_summary[c] = df.mean()"
   ]
  },
  {
   "cell_type": "markdown",
   "id": "592bdf0e",
   "metadata": {},
   "source": [
    "### 2.7 Export Functionality\n",
    "The filtered clusters and their associated molecular data can be exported in `.csv` format for documentation or further analysis. This is handled using Pandas’ `to_csv()` method and Streamlit’s `download_button()`:"
   ]
  },
  {
   "cell_type": "code",
   "execution_count": null,
   "id": "130bb483",
   "metadata": {},
   "outputs": [],
   "source": [
    "csv = cluster_df.to_csv(index=False).encode('utf-8')\n",
    "st.download_button(\"Download Cluster Molecules\", data=csv,\n",
    "                   file_name=\"cluster_data.csv\", mime=\"text/csv\")"
   ]
  },
  {
   "cell_type": "markdown",
   "id": "a09a700e",
   "metadata": {},
   "source": [
    "## 3. Single Molecule Mode – Conformer Generation and Visualization"
   ]
  },
  {
   "cell_type": "markdown",
   "id": "da976e02",
   "metadata": {},
   "source": [
    "In Single Molecule Mode, ChemCluster allows users to enter or draw a molecule, generate 3D conformers, perform clustering based on conformational similarity, and visualize representative conformations.\n",
    "\n",
    "This mode is particularly useful for analyzing the conformational landscape of flexible molecules or inspecting representative shapes for downstream modeling."
   ]
  },
  {
   "cell_type": "markdown",
   "id": "11ef6dfb",
   "metadata": {},
   "source": [
    "### 3.1 Molecular Input\n",
    "The user can enter a molecule via a SMILES string or draw it interactively using an embedded chemical editor. The SMILES string is parsed with RDKit to generate a `Mol` object."
   ]
  },
  {
   "cell_type": "code",
   "execution_count": null,
   "id": "60c9e29c",
   "metadata": {},
   "outputs": [],
   "source": [
    "from rdkit import Chem\n",
    "mol = Chem.MolFromSmiles(\"CCO\")"
   ]
  },
  {
   "cell_type": "markdown",
   "id": "7bf28163",
   "metadata": {},
   "source": [
    "### 3.2 Conformer Generation\n",
    "RDKit's ETKDG algorithm is used to generate multiple conformers for the input molecule. Explicit hydrogen atoms are added prior to embedding to improve 3D accuracy. The user can specify the number of conformers to be generated.\n"
   ]
  },
  {
   "cell_type": "code",
   "execution_count": null,
   "id": "a0af2bf1",
   "metadata": {},
   "outputs": [],
   "source": [
    "from rdkit.Chem import AllChem\n",
    "mol = Chem.AddHs(mol)\n",
    "cids = AllChem.EmbedMultipleConfs(mol, numConfs=50, randomSeed=42)\n",
    "AllChem.UFFOptimizeMoleculeConfs(mol)"
   ]
  },
  {
   "cell_type": "markdown",
   "id": "7dc3f246",
   "metadata": {},
   "source": [
    "### 3.3 Conformer Clustering\n",
    "The conformers are clustered based on their pairwise RMSD values using the Butina clustering algorithm. This allows identification of conformational families. The conformer with the lowest average RMSD within each cluster is selected as the centroid."
   ]
  },
  {
   "cell_type": "code",
   "execution_count": null,
   "id": "ff7485de",
   "metadata": {},
   "outputs": [],
   "source": [
    "from rdkit.ML.Cluster import Butina\n",
    "from rdkit.Chem import rdMolAlign\n",
    "dists = []\n",
    "for i in range(len(cids)):\n",
    "    for j in range(i):\n",
    "        rms = rdMolAlign.GetBestRMS(mol, mol, i, j)\n",
    "        dists.append(rms)\n",
    "clusters = Butina.ClusterData(dists, len(cids), 1.5, isDistData=True)"
   ]
  },
  {
   "cell_type": "markdown",
   "id": "8ee9370b",
   "metadata": {},
   "source": [
    "### 3.4 Visualization of Centroids\n",
    "Users can select centroid conformers to visualize them in 3D using py3Dmol. This allows comparing conformational representatives interactively."
   ]
  },
  {
   "cell_type": "code",
   "execution_count": null,
   "id": "9a3f46e5",
   "metadata": {},
   "outputs": [],
   "source": [
    "import py3Dmol\n",
    "viewer = py3Dmol.view(width=400, height=400)\n",
    "mb = Chem.MolToMolBlock(mol, confId=centroid_id)\n",
    "viewer.addModel(mb, 'mol')\n",
    "viewer.setStyle({'stick': {}})\n",
    "viewer.zoomTo()"
   ]
  },
  {
   "cell_type": "markdown",
   "id": "3ba1c45a",
   "metadata": {},
   "source": [
    "### 3.5 Property Calculation for Centroids\n",
    "For each centroid conformer, the `calculate_properties()` function is used to compute relevant physicochemical descriptors. These include molecular weight, LogP, number of hydrogen bond donors/acceptors, TPSA, rotatable bonds, etc."
   ]
  },
  {
   "cell_type": "code",
   "execution_count": null,
   "id": "580cb817",
   "metadata": {},
   "outputs": [],
   "source": [
    "from chemcluster import calculate_properties\n",
    "props = calculate_properties(mol, mol_name=\"example\")"
   ]
  },
  {
   "cell_type": "markdown",
   "id": "23cd9140",
   "metadata": {},
   "source": [
    "The dataset mode enables users to upload and analyze molecular datasets containing multiple compounds. This mode is suitable for exploring the diversity of a chemical library, identifying representative clusters, and filtering molecules based on specific chemical properties.\n",
    "\n",
    "The clustering workflow is based on molecular descriptors derived from circular fingerprints, and involves dimensionality reduction and unsupervised clustering. Molecules within clusters can be interactively explored and exported for further analysis."
   ]
  },
  {
   "cell_type": "markdown",
   "id": "7c4e4c9e",
   "metadata": {},
   "source": [
    "## 4. Results and Observations\n",
    "\n",
    "To demonstrate the functionality of ChemCluster, we considered testing the application with a small molecule input. One possible example is the flavone molecule, provided as an `.sdf` file (`Flavone.sdf`).\n",
    "\n",
    "In single molecule mode, ChemCluster successfully processed the molecule, added explicit hydrogens, and generated a set of conformers using the ETKDG algorithm. The generated conformers were clustered based on RMSD distances using the Butina algorithm. The application identified a small number of representative conformers (cluster centroids), which were then visualized in both 2D and 3D.\n",
    "\n",
    "The flavone molecule’s physicochemical properties — including molecular weight, LogP, TPSA, and hydrogen bonding features — were computed and displayed within the application interface. All values were consistent with expectations for a moderately hydrophobic, aromatic compound.\n",
    "\n",
    "The export feature allowed downloading all conformer and property data in a structured `.csv` format. This facilitates further analysis or integration with external cheminformatics workflows.\n",
    "\n",
    "*Note: A final version of this section will include updated values and screenshots based on the exact molecule used during the oral demonstration.*\n"
   ]
  },
  {
   "cell_type": "markdown",
   "id": "73f24104",
   "metadata": {},
   "source": [
    "## 5. Testing and Validation"
   ]
  },
  {
   "cell_type": "markdown",
   "id": "f548ab53",
   "metadata": {},
   "source": [
    "To ensure reliability and maintainability, ChemCluster includes a suite of unit tests covering all core functionalities. These tests are located in the `tests/` directory and can be executed using either `pytest` or `tox`, ensuring compatibility across Python versions."
   ]
  },
  {
   "cell_type": "markdown",
   "id": "f4e1e91d",
   "metadata": {},
   "source": [
    "### 5.1 Coverage and Scope\n",
    "The following components are covered by unit tests:\n",
    "- `clean_smiles_list`: checks for SMILES parsing and molecule validity\n",
    "- `get_fingerprint`: verifies correct generation of Morgan fingerprints\n",
    "- `calculate_properties`: ensures property values match expected reference\n",
    "- `mol_to_base64_img`: validates base64 image string formatting\n",
    "- `show_3d_molecule`: checks py3Dmol viewer object creation"
   ]
  },
  {
   "cell_type": "markdown",
   "id": "6616aaf1",
   "metadata": {},
   "source": [
    "### 5.2 Example Test Snippet"
   ]
  },
  {
   "cell_type": "code",
   "execution_count": null,
   "id": "e1510e89",
   "metadata": {},
   "outputs": [],
   "source": [
    "def test_calculate_properties():\n",
    "    mol = Chem.MolFromSmiles(\"CCO\")  # ethanol\n",
    "    result = calculate_properties(mol, mol_name=\"ethanol\")\n",
    "    assert isinstance(result, dict)\n",
    "    assert abs(result[\"Molecular Weight\"] - 46.07) < 0.1"
   ]
  },
  {
   "cell_type": "markdown",
   "id": "96b58372",
   "metadata": {},
   "source": [
    "## 6. Challenges Faced\n",
    "\n",
    "While the development of ChemCluster was overall successful and rewarding, several technical and practical challenges emerged during the implementation and testing phases:\n",
    "\n",
    "- **Performance with large datasets or high conformer counts:**  \n",
    "  When processing large molecule sets or generating a high number of conformers, the application experienced significant slowdowns during 3D generation and clustering. This was particularly evident with long optimization times and memory consumption.\n",
    "\n",
    "- **3D visualization issues with certain SMILES:**  \n",
    "  Although py3Dmol generally worked well, some SMILES strings led to unexpected 3D representations or viewer artifacts. This may be linked to problematic stereochemistry or non-standard atom arrangements in the input data.\n",
    "\n",
    "- **Cross-platform compatibility limitations:**  \n",
    "  The app's dependencies (e.g. `py3Dmol`, `streamlit_plotly_events`) occasionally behaved differently between Windows and MacOS environments. Some packages required manual installation or specific version pinning depending on the OS.\n",
    "\n",
    "These limitations were addressed when possible and are documented for future improvements.\n",
    "\n"
   ]
  },
  {
   "cell_type": "code",
   "execution_count": null,
   "metadata": {},
   "outputs": [],
   "source": []
  },
  {
   "cell_type": "markdown",
   "id": "13baffe9",
   "metadata": {},
   "source": [
    "## 7. Conclusion and Outlook\n",
    "\n",
    "ChemCluster has proven to be a functional and user-friendly cheminformatics platform for exploring molecular structures and clusters through RDKit and Streamlit. The application allows both single-molecule and dataset-based analyses, including conformer generation, clustering, property calculation, 2D/3D visualization, and interactive selection.\n",
    "\n",
    "The project successfully integrates key aspects of molecular analysis into a cohesive, visual, and reproducible workflow. It has been used to process real molecular inputs such as flavone, and demonstrates clear separation of molecular clusters, meaningful descriptor distributions, and smooth user interaction.\n",
    "\n",
    "While the main functionalities are complete and operational, additional features were considered during the development process. These include more advanced modeling or solution-phase interaction analysis, which were postponed in favor of keeping the application focused, functional, and robust.\n",
    "\n",
    "### Future Perspective\n",
    "\n",
    "A promising extension could be the visualization of hydrogen bonding interactions between different centroid conformers of a given molecule in solution. This would help investigate the possible over- or underestimation of transition states (TS) depending on conformer environments. Although this idea was not implemented in the final version, it remains a valuable direction for future work.\n"
   ]
  }
 ],
 "metadata": {
  "kernelspec": {
   "display_name": "chemcluster-env",
   "language": "python",
   "name": "python3"
  },
  "language_info": {
   "codemirror_mode": {
    "name": "ipython",
    "version": 3
   },
   "file_extension": ".py",
   "mimetype": "text/x-python",
   "name": "python",
   "nbconvert_exporter": "python",
   "pygments_lexer": "ipython3",
   "version": "3.10.17"
  }
 },
 "nbformat": 4,
 "nbformat_minor": 5
}
